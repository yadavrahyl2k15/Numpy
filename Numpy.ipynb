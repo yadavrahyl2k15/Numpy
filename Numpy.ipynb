{
  "nbformat": 4,
  "nbformat_minor": 0,
  "metadata": {
    "colab": {
      "name": "Numpy.ipynb",
      "provenance": [],
      "authorship_tag": "ABX9TyMrtqGKuzo322sglGVuwttQ",
      "include_colab_link": true
    },
    "kernelspec": {
      "name": "python3",
      "display_name": "Python 3"
    },
    "language_info": {
      "name": "python"
    }
  },
  "cells": [
    {
      "cell_type": "markdown",
      "metadata": {
        "id": "view-in-github",
        "colab_type": "text"
      },
      "source": [
        "<a href=\"https://colab.research.google.com/github/yadavrahyl2k15/Numpy/blob/main/Numpy.ipynb\" target=\"_parent\"><img src=\"https://colab.research.google.com/assets/colab-badge.svg\" alt=\"Open In Colab\"/></a>"
      ]
    },
    {
      "cell_type": "code",
      "metadata": {
        "id": "qpsVMyBTs1oQ"
      },
      "source": [
        "import numpy as np"
      ],
      "execution_count": 33,
      "outputs": []
    },
    {
      "cell_type": "code",
      "metadata": {
        "colab": {
          "base_uri": "https://localhost:8080/"
        },
        "id": "lWvdexY4s5bZ",
        "outputId": "4faf3ae7-0f9b-45ac-9f09-5dbdfebc8339"
      },
      "source": [
        "a=np.array\n",
        "print(a)"
      ],
      "execution_count": 34,
      "outputs": [
        {
          "output_type": "stream",
          "text": [
            "<built-in function array>\n"
          ],
          "name": "stdout"
        }
      ]
    },
    {
      "cell_type": "code",
      "metadata": {
        "colab": {
          "base_uri": "https://localhost:8080/"
        },
        "id": "JgkT_EUzs-Np",
        "outputId": "76c36ef2-ade6-430d-8515-54c13497e3e5"
      },
      "source": [
        "a=np.array([1,2,3,4,5])\n",
        "a"
      ],
      "execution_count": 35,
      "outputs": [
        {
          "output_type": "execute_result",
          "data": {
            "text/plain": [
              "array([1, 2, 3, 4, 5])"
            ]
          },
          "metadata": {
            "tags": []
          },
          "execution_count": 35
        }
      ]
    },
    {
      "cell_type": "code",
      "metadata": {
        "colab": {
          "base_uri": "https://localhost:8080/"
        },
        "id": "7rpG4TXatFpa",
        "outputId": "d74aa210-e159-416b-b25c-c56403dd7c57"
      },
      "source": [
        "type(a)"
      ],
      "execution_count": 36,
      "outputs": [
        {
          "output_type": "execute_result",
          "data": {
            "text/plain": [
              "numpy.ndarray"
            ]
          },
          "metadata": {
            "tags": []
          },
          "execution_count": 36
        }
      ]
    },
    {
      "cell_type": "code",
      "metadata": {
        "colab": {
          "base_uri": "https://localhost:8080/"
        },
        "id": "VQRGyRN6tH3c",
        "outputId": "b1ec9dc0-357f-48e8-9b0f-1046c2ef4a63"
      },
      "source": [
        "b=np.array([1,2,3,4],complex)\n",
        "b"
      ],
      "execution_count": 37,
      "outputs": [
        {
          "output_type": "execute_result",
          "data": {
            "text/plain": [
              "array([1.+0.j, 2.+0.j, 3.+0.j, 4.+0.j])"
            ]
          },
          "metadata": {
            "tags": []
          },
          "execution_count": 37
        }
      ]
    },
    {
      "cell_type": "code",
      "metadata": {
        "colab": {
          "base_uri": "https://localhost:8080/"
        },
        "id": "9XXSYysDtdNp",
        "outputId": "79693023-d043-4890-e058-90ac421d250e"
      },
      "source": [
        "c=np.array([1,2,3,4],float)\n",
        "c"
      ],
      "execution_count": 38,
      "outputs": [
        {
          "output_type": "execute_result",
          "data": {
            "text/plain": [
              "array([1., 2., 3., 4.])"
            ]
          },
          "metadata": {
            "tags": []
          },
          "execution_count": 38
        }
      ]
    },
    {
      "cell_type": "code",
      "metadata": {
        "colab": {
          "base_uri": "https://localhost:8080/"
        },
        "id": "MNFOFYiTtlt2",
        "outputId": "d8fd8415-d090-45e2-dfd8-4171dde68b78"
      },
      "source": [
        "type(b)"
      ],
      "execution_count": 39,
      "outputs": [
        {
          "output_type": "execute_result",
          "data": {
            "text/plain": [
              "numpy.ndarray"
            ]
          },
          "metadata": {
            "tags": []
          },
          "execution_count": 39
        }
      ]
    },
    {
      "cell_type": "code",
      "metadata": {
        "colab": {
          "base_uri": "https://localhost:8080/"
        },
        "id": "kP0dRV38tqm2",
        "outputId": "321a6d78-48ee-4efa-f85b-618412ce8d1b"
      },
      "source": [
        "d=np.array([[1,2,3],[4,5,6]])\n",
        "d"
      ],
      "execution_count": 40,
      "outputs": [
        {
          "output_type": "execute_result",
          "data": {
            "text/plain": [
              "array([[1, 2, 3],\n",
              "       [4, 5, 6]])"
            ]
          },
          "metadata": {
            "tags": []
          },
          "execution_count": 40
        }
      ]
    },
    {
      "cell_type": "code",
      "metadata": {
        "colab": {
          "base_uri": "https://localhost:8080/"
        },
        "id": "AeRIVd9NuX01",
        "outputId": "e41360ed-acc9-40c1-8b3a-e29106b88a78"
      },
      "source": [
        "print(\"each item contains\",a.itemsize,\"bytes\")"
      ],
      "execution_count": 41,
      "outputs": [
        {
          "output_type": "stream",
          "text": [
            "each item contains 8 bytes\n"
          ],
          "name": "stdout"
        }
      ]
    },
    {
      "cell_type": "code",
      "metadata": {
        "colab": {
          "base_uri": "https://localhost:8080/"
        },
        "id": "CzDSvFlkukX-",
        "outputId": "3e8c7d76-a469-4090-c815-69b2e8768fff"
      },
      "source": [
        "print(\"each item contains\",b.itemsize,\"bytes\")"
      ],
      "execution_count": 42,
      "outputs": [
        {
          "output_type": "stream",
          "text": [
            "each item contains 16 bytes\n"
          ],
          "name": "stdout"
        }
      ]
    },
    {
      "cell_type": "code",
      "metadata": {
        "colab": {
          "base_uri": "https://localhost:8080/"
        },
        "id": "YmpukagAupkw",
        "outputId": "ce5f831e-8041-49a5-f289-e4b1dcd9d166"
      },
      "source": [
        "print(\"each item contains\",d.itemsize,\"bytes\")"
      ],
      "execution_count": 43,
      "outputs": [
        {
          "output_type": "stream",
          "text": [
            "each item contains 8 bytes\n"
          ],
          "name": "stdout"
        }
      ]
    },
    {
      "cell_type": "code",
      "metadata": {
        "colab": {
          "base_uri": "https://localhost:8080/"
        },
        "id": "9OxXiMZuur1E",
        "outputId": "56a5afae-6e14-48ec-c981-0d01d801bd18"
      },
      "source": [
        "print(\"each items of type : \",a.dtype)"
      ],
      "execution_count": 44,
      "outputs": [
        {
          "output_type": "stream",
          "text": [
            "each items of type :  int64\n"
          ],
          "name": "stdout"
        }
      ]
    },
    {
      "cell_type": "code",
      "metadata": {
        "colab": {
          "base_uri": "https://localhost:8080/"
        },
        "id": "A-q0CbXEvLuV",
        "outputId": "45ddbbdf-6845-4f99-8dd0-5f32b0333360"
      },
      "source": [
        "print(\"each items of type : \",b.dtype)"
      ],
      "execution_count": 45,
      "outputs": [
        {
          "output_type": "stream",
          "text": [
            "each items of type :  complex128\n"
          ],
          "name": "stdout"
        }
      ]
    },
    {
      "cell_type": "code",
      "metadata": {
        "colab": {
          "base_uri": "https://localhost:8080/"
        },
        "id": "hmTyzAgFvPZy",
        "outputId": "644c44b5-cd26-4cb7-b4e3-1be0e2d49696"
      },
      "source": [
        "print(\"each items of type : \",d.dtype)"
      ],
      "execution_count": 46,
      "outputs": [
        {
          "output_type": "stream",
          "text": [
            "each items of type :  int64\n"
          ],
          "name": "stdout"
        }
      ]
    },
    {
      "cell_type": "markdown",
      "metadata": {
        "id": "qGSXsixpvuwj"
      },
      "source": [
        "SHAPE AND SIZE OF ARRAY"
      ]
    },
    {
      "cell_type": "code",
      "metadata": {
        "colab": {
          "base_uri": "https://localhost:8080/"
        },
        "id": "63Zw6c5-vROe",
        "outputId": "64ead338-d7d2-4369-e8c5-50883c5531d8"
      },
      "source": [
        "print(\"shape of array :\",a.shape)\n",
        "print(\"size of array :\",a.size)"
      ],
      "execution_count": 47,
      "outputs": [
        {
          "output_type": "stream",
          "text": [
            "shape of array : (5,)\n",
            "size of array : 5\n"
          ],
          "name": "stdout"
        }
      ]
    },
    {
      "cell_type": "code",
      "metadata": {
        "colab": {
          "base_uri": "https://localhost:8080/"
        },
        "id": "ZrNB2AiOvmEy",
        "outputId": "c3406577-91a1-4215-dae6-15b38261972b"
      },
      "source": [
        "print(\"shape of array :\",b.shape)\n",
        "print(\"size of array :\",b.size)"
      ],
      "execution_count": 48,
      "outputs": [
        {
          "output_type": "stream",
          "text": [
            "shape of array : (4,)\n",
            "size of array : 4\n"
          ],
          "name": "stdout"
        }
      ]
    },
    {
      "cell_type": "code",
      "metadata": {
        "colab": {
          "base_uri": "https://localhost:8080/"
        },
        "id": "HSpZ5pjAvqsg",
        "outputId": "c94ae62c-ad3c-45bf-f933-987d82d3e57d"
      },
      "source": [
        "print(\"shape of array :\",d.shape)\n",
        "print(\"size of array :\",d.size)"
      ],
      "execution_count": 49,
      "outputs": [
        {
          "output_type": "stream",
          "text": [
            "shape of array : (2, 3)\n",
            "size of array : 6\n"
          ],
          "name": "stdout"
        }
      ]
    },
    {
      "cell_type": "markdown",
      "metadata": {
        "id": "dDV_Zm0dwVc-"
      },
      "source": [
        "RESHAPING ARRAY"
      ]
    },
    {
      "cell_type": "code",
      "metadata": {
        "colab": {
          "base_uri": "https://localhost:8080/"
        },
        "id": "zAndSDSCvs39",
        "outputId": "22584a8b-76a5-4315-d916-464a508f1a8c"
      },
      "source": [
        "a=np.array([[1,2],[56,87],[12,566],[45,76]])\n",
        "print(\"array shape before reshaping: \",a.shape)\n",
        "b=a.reshape(8,1)\n",
        "print(\"array shape after reshaping :\",b.shape)\n",
        "print(b)"
      ],
      "execution_count": 50,
      "outputs": [
        {
          "output_type": "stream",
          "text": [
            "array shape before reshaping:  (4, 2)\n",
            "array shape after reshaping : (8, 1)\n",
            "[[  1]\n",
            " [  2]\n",
            " [ 56]\n",
            " [ 87]\n",
            " [ 12]\n",
            " [566]\n",
            " [ 45]\n",
            " [ 76]]\n"
          ],
          "name": "stdout"
        }
      ]
    },
    {
      "cell_type": "markdown",
      "metadata": {
        "id": "WTaBFWYdzlfU"
      },
      "source": [
        "SLICING OF ARRAY"
      ]
    },
    {
      "cell_type": "code",
      "metadata": {
        "colab": {
          "base_uri": "https://localhost:8080/"
        },
        "id": "qixph1Dlw4Zy",
        "outputId": "5ee0623c-dce7-41ba-ad14-5e65986c2910"
      },
      "source": [
        "a=np.array([[32,54],[12,45],[45,67]])\n",
        "print(a[1,1])\n",
        "print(a[0,1])\n",
        "print(a[2,0])"
      ],
      "execution_count": 51,
      "outputs": [
        {
          "output_type": "stream",
          "text": [
            "45\n",
            "54\n",
            "45\n"
          ],
          "name": "stdout"
        }
      ]
    },
    {
      "cell_type": "markdown",
      "metadata": {
        "id": "0mWXivyc0qiO"
      },
      "source": [
        "LINSPACE"
      ]
    },
    {
      "cell_type": "code",
      "metadata": {
        "colab": {
          "base_uri": "https://localhost:8080/"
        },
        "id": "reX-6Umgz5sz",
        "outputId": "32c6797f-f3fe-4280-8a3e-ef74ba50dbef"
      },
      "source": [
        "a=np.linspace(2,10,15)\n",
        "a"
      ],
      "execution_count": 52,
      "outputs": [
        {
          "output_type": "execute_result",
          "data": {
            "text/plain": [
              "array([ 2.        ,  2.57142857,  3.14285714,  3.71428571,  4.28571429,\n",
              "        4.85714286,  5.42857143,  6.        ,  6.57142857,  7.14285714,\n",
              "        7.71428571,  8.28571429,  8.85714286,  9.42857143, 10.        ])"
            ]
          },
          "metadata": {
            "tags": []
          },
          "execution_count": 52
        }
      ]
    },
    {
      "cell_type": "markdown",
      "metadata": {
        "id": "5xNfly9j01LA"
      },
      "source": [
        "operations"
      ]
    },
    {
      "cell_type": "code",
      "metadata": {
        "colab": {
          "base_uri": "https://localhost:8080/"
        },
        "id": "bFSDVJyh0xru",
        "outputId": "0a687fca-fcce-41f4-acec-d55aeb9962eb"
      },
      "source": [
        "a=np.array([12,23,43,53,56,12,278,7,90,23])\n",
        "print(\"maximum of array:\",a.max())\n",
        "print(\"minimum of array:\",a.min())\n",
        "print(\"sum of array :\",a.sum())\n",
        "print(\"square root of array :\",np.sqrt(a))\n",
        "print(\"standard deviation of array:\",np.std(a))"
      ],
      "execution_count": 53,
      "outputs": [
        {
          "output_type": "stream",
          "text": [
            "maximum of array: 278\n",
            "minimum of array: 7\n",
            "sum of array : 597\n",
            "square root of array : [ 3.46410162  4.79583152  6.55743852  7.28010989  7.48331477  3.46410162\n",
            " 16.673332    2.64575131  9.48683298  4.79583152]\n",
            "standard deviation of array: 76.76724561946978\n"
          ],
          "name": "stdout"
        }
      ]
    },
    {
      "cell_type": "markdown",
      "metadata": {
        "id": "HR7rT7NB2pVC"
      },
      "source": [
        "CONCATENATION"
      ]
    },
    {
      "cell_type": "code",
      "metadata": {
        "colab": {
          "base_uri": "https://localhost:8080/"
        },
        "id": "36AO88ru1SLA",
        "outputId": "4e1bf187-3272-43b3-dc99-6d7d00b1a928"
      },
      "source": [
        "a=np.array([[1,2,3],[43,45,21]])\n",
        "b=np.array([[32,21,210],[90,21,0]])\n",
        "\n",
        "print(\"array vertically concatenate : \\n\",np.vstack((a,b)))\n",
        "print(\"array horizontal concatenate : \\n\",np.hstack((a,b)))"
      ],
      "execution_count": 54,
      "outputs": [
        {
          "output_type": "stream",
          "text": [
            "array vertically concatenate : \n",
            " [[  1   2   3]\n",
            " [ 43  45  21]\n",
            " [ 32  21 210]\n",
            " [ 90  21   0]]\n",
            "array horizontal concatenate : \n",
            " [[  1   2   3  32  21 210]\n",
            " [ 43  45  21  90  21   0]]\n"
          ],
          "name": "stdout"
        }
      ]
    },
    {
      "cell_type": "markdown",
      "metadata": {
        "id": "EXIXiLq76LJ_"
      },
      "source": [
        "ARRAY CREATON"
      ]
    },
    {
      "cell_type": "code",
      "metadata": {
        "colab": {
          "base_uri": "https://localhost:8080/"
        },
        "id": "ZmM_Dcok3TBY",
        "outputId": "6a7c1142-bb7f-4252-d528-696b017fc58c"
      },
      "source": [
        "array=np.empty((3,3),dtype=float)\n",
        "array"
      ],
      "execution_count": 55,
      "outputs": [
        {
          "output_type": "execute_result",
          "data": {
            "text/plain": [
              "array([[1., 1., 1.],\n",
              "       [1., 1., 1.],\n",
              "       [1., 1., 1.]])"
            ]
          },
          "metadata": {
            "tags": []
          },
          "execution_count": 55
        }
      ]
    },
    {
      "cell_type": "code",
      "metadata": {
        "colab": {
          "base_uri": "https://localhost:8080/"
        },
        "id": "BjneBKzT6fDu",
        "outputId": "050b253d-87ac-475d-d289-d5e275aa8936"
      },
      "source": [
        "array=np.empty((2,2))\n",
        "array"
      ],
      "execution_count": 56,
      "outputs": [
        {
          "output_type": "execute_result",
          "data": {
            "text/plain": [
              "array([[1., 2.],\n",
              "       [3., 4.]])"
            ]
          },
          "metadata": {
            "tags": []
          },
          "execution_count": 56
        }
      ]
    },
    {
      "cell_type": "code",
      "metadata": {
        "colab": {
          "base_uri": "https://localhost:8080/"
        },
        "id": "okzf-WaV6kgh",
        "outputId": "4fd429d7-6372-4406-cd4c-44dbdf967274"
      },
      "source": [
        "array=np.zeros((4,4))\n",
        "array"
      ],
      "execution_count": 57,
      "outputs": [
        {
          "output_type": "execute_result",
          "data": {
            "text/plain": [
              "array([[0., 0., 0., 0.],\n",
              "       [0., 0., 0., 0.],\n",
              "       [0., 0., 0., 0.],\n",
              "       [0., 0., 0., 0.]])"
            ]
          },
          "metadata": {
            "tags": []
          },
          "execution_count": 57
        }
      ]
    },
    {
      "cell_type": "code",
      "metadata": {
        "colab": {
          "base_uri": "https://localhost:8080/"
        },
        "id": "qwxBtru56umn",
        "outputId": "810fad92-37b5-43e2-8c8f-bd92c14bd444"
      },
      "source": [
        "array=np.ones((3,3),dtype=float)\n",
        "array"
      ],
      "execution_count": 58,
      "outputs": [
        {
          "output_type": "execute_result",
          "data": {
            "text/plain": [
              "array([[1., 1., 1.],\n",
              "       [1., 1., 1.],\n",
              "       [1., 1., 1.]])"
            ]
          },
          "metadata": {
            "tags": []
          },
          "execution_count": 58
        }
      ]
    },
    {
      "cell_type": "markdown",
      "metadata": {
        "id": "k6rBQPgP8MN_"
      },
      "source": [
        "NUMPY ARRAY FROM EXISTING DATA"
      ]
    },
    {
      "cell_type": "code",
      "metadata": {
        "colab": {
          "base_uri": "https://localhost:8080/"
        },
        "id": "HIrmp8pV663p",
        "outputId": "b5b0d485-2fe9-434e-c33c-bf7f65ebc85f"
      },
      "source": [
        "tupl=(1,2,3,4,5,6)\n",
        "a=np.asarray(tupl)\n",
        "print(a)\n",
        "print(type(a))"
      ],
      "execution_count": 59,
      "outputs": [
        {
          "output_type": "stream",
          "text": [
            "[1 2 3 4 5 6]\n",
            "<class 'numpy.ndarray'>\n"
          ],
          "name": "stdout"
        }
      ]
    },
    {
      "cell_type": "code",
      "metadata": {
        "colab": {
          "base_uri": "https://localhost:8080/"
        },
        "id": "qSW85UKx8lxN",
        "outputId": "3a63c2e2-2919-41fc-f6be-797b9b64cdb2"
      },
      "source": [
        "list1=[[1,2,3,4,5,6],[5,6,45]]\n",
        "a=np.asarray(list1)\n",
        "print(a)\n",
        "print(type(a))"
      ],
      "execution_count": 60,
      "outputs": [
        {
          "output_type": "stream",
          "text": [
            "[list([1, 2, 3, 4, 5, 6]) list([5, 6, 45])]\n",
            "<class 'numpy.ndarray'>\n"
          ],
          "name": "stdout"
        },
        {
          "output_type": "stream",
          "text": [
            "/usr/local/lib/python3.7/dist-packages/numpy/core/_asarray.py:83: VisibleDeprecationWarning: Creating an ndarray from ragged nested sequences (which is a list-or-tuple of lists-or-tuples-or ndarrays with different lengths or shapes) is deprecated. If you meant to do this, you must specify 'dtype=object' when creating the ndarray\n",
            "  return array(a, dtype, copy=False, order=order)\n"
          ],
          "name": "stderr"
        }
      ]
    },
    {
      "cell_type": "code",
      "metadata": {
        "colab": {
          "base_uri": "https://localhost:8080/"
        },
        "id": "BnzPrMl-895d",
        "outputId": "12b83ad7-68bb-4db8-a7dd-9d9c45f11ae4"
      },
      "source": [
        "string=b\"hello world\"\n",
        "print(type(string))\n",
        "a=np.frombuffer(string,dtype=\"S1\")\n",
        "print(a)"
      ],
      "execution_count": 61,
      "outputs": [
        {
          "output_type": "stream",
          "text": [
            "<class 'bytes'>\n",
            "[b'h' b'e' b'l' b'l' b'o' b' ' b'w' b'o' b'r' b'l' b'd']\n"
          ],
          "name": "stdout"
        }
      ]
    },
    {
      "cell_type": "code",
      "metadata": {
        "colab": {
          "base_uri": "https://localhost:8080/"
        },
        "id": "Xk-IoBlpBXH-",
        "outputId": "b8dd9f90-2735-46ba-cc9d-a5c38a79ed0d"
      },
      "source": [
        "list1=[1,2,3,4,5]\n",
        "it=iter(list1)\n",
        "a=np.fromiter(it,dtype=float)\n",
        "print(a)\n",
        "print(type(a))"
      ],
      "execution_count": 62,
      "outputs": [
        {
          "output_type": "stream",
          "text": [
            "[1. 2. 3. 4. 5.]\n",
            "<class 'numpy.ndarray'>\n"
          ],
          "name": "stdout"
        }
      ]
    },
    {
      "cell_type": "markdown",
      "metadata": {
        "id": "lrTXbWV7Jq-9"
      },
      "source": [
        "NUMPY FROM ITERATION"
      ]
    },
    {
      "cell_type": "code",
      "metadata": {
        "id": "tjk4TPrXKZev"
      },
      "source": [
        "import numpy as np\n"
      ],
      "execution_count": 63,
      "outputs": []
    },
    {
      "cell_type": "code",
      "metadata": {
        "colab": {
          "base_uri": "https://localhost:8080/"
        },
        "id": "X62J7WgwJn8u",
        "outputId": "938eae3a-bc09-4074-9500-6620b97eab46"
      },
      "source": [
        "a=np.array([[1,2,3],[34,56,23],[98,23,12]])\n",
        "for x in np.nditer(a):\n",
        "  print(a ,end='')"
      ],
      "execution_count": 64,
      "outputs": [
        {
          "output_type": "stream",
          "text": [
            "[[ 1  2  3]\n",
            " [34 56 23]\n",
            " [98 23 12]][[ 1  2  3]\n",
            " [34 56 23]\n",
            " [98 23 12]][[ 1  2  3]\n",
            " [34 56 23]\n",
            " [98 23 12]][[ 1  2  3]\n",
            " [34 56 23]\n",
            " [98 23 12]][[ 1  2  3]\n",
            " [34 56 23]\n",
            " [98 23 12]][[ 1  2  3]\n",
            " [34 56 23]\n",
            " [98 23 12]][[ 1  2  3]\n",
            " [34 56 23]\n",
            " [98 23 12]][[ 1  2  3]\n",
            " [34 56 23]\n",
            " [98 23 12]][[ 1  2  3]\n",
            " [34 56 23]\n",
            " [98 23 12]]"
          ],
          "name": "stdout"
        }
      ]
    },
    {
      "cell_type": "code",
      "metadata": {
        "colab": {
          "base_uri": "https://localhost:8080/"
        },
        "id": "CR2QdI2_KIsC",
        "outputId": "a1899a24-cb76-4553-9f96-881dc2fc9663"
      },
      "source": [
        "a_transpose=a.T\n",
        "print(a_transpose)"
      ],
      "execution_count": 65,
      "outputs": [
        {
          "output_type": "stream",
          "text": [
            "[[ 1 34 98]\n",
            " [ 2 56 23]\n",
            " [ 3 23 12]]\n"
          ],
          "name": "stdout"
        }
      ]
    },
    {
      "cell_type": "code",
      "metadata": {
        "colab": {
          "base_uri": "https://localhost:8080/"
        },
        "id": "OsUR2CTdKy0s",
        "outputId": "0abd359b-9187-4a24-d55d-46d49a8764bc"
      },
      "source": [
        "for x in np.nditer(a_transpose):\n",
        "  print(x,end=\" \")"
      ],
      "execution_count": 66,
      "outputs": [
        {
          "output_type": "stream",
          "text": [
            "1 2 3 34 56 23 98 23 12 "
          ],
          "name": "stdout"
        }
      ]
    },
    {
      "cell_type": "markdown",
      "metadata": {
        "id": "ClfT5oFM0J2X"
      },
      "source": [
        "NUMPY BITWISE OPERATIONS"
      ]
    },
    {
      "cell_type": "code",
      "metadata": {
        "colab": {
          "base_uri": "https://localhost:8080/"
        },
        "id": "oAtf0dSyK8Bf",
        "outputId": "dfce9c28-df41-41b1-b07c-23f1a0a39ebd"
      },
      "source": [
        "import numpy as np\n",
        "a=10\n",
        "b=12\n",
        "print(bin(a))\n",
        "print(bin(b))"
      ],
      "execution_count": 67,
      "outputs": [
        {
          "output_type": "stream",
          "text": [
            "0b1010\n",
            "0b1100\n"
          ],
          "name": "stdout"
        }
      ]
    },
    {
      "cell_type": "code",
      "metadata": {
        "colab": {
          "base_uri": "https://localhost:8080/"
        },
        "id": "CglB98T50XN1",
        "outputId": "1684f877-4ba1-4436-8226-debb4349f88f"
      },
      "source": [
        "print(\"Bitwise AND :\",np.bitwise_and(a,b))\n",
        "print(bin(np.bitwise_and(a,b)))"
      ],
      "execution_count": 68,
      "outputs": [
        {
          "output_type": "stream",
          "text": [
            "Bitwise AND : 8\n",
            "0b1000\n"
          ],
          "name": "stdout"
        }
      ]
    },
    {
      "cell_type": "code",
      "metadata": {
        "colab": {
          "base_uri": "https://localhost:8080/"
        },
        "id": "duoMZw_p0pcI",
        "outputId": "ec761197-8690-42a7-aba8-03121e12918f"
      },
      "source": [
        "print(\"Bitwise OR : \",np.bitwise_or(a,b))\n",
        "print(bin(np.bitwise_or(a,b)))"
      ],
      "execution_count": 69,
      "outputs": [
        {
          "output_type": "stream",
          "text": [
            "Bitwise OR :  14\n",
            "0b1110\n"
          ],
          "name": "stdout"
        }
      ]
    },
    {
      "cell_type": "code",
      "metadata": {
        "colab": {
          "base_uri": "https://localhost:8080/"
        },
        "id": "SaaFwYr502aw",
        "outputId": "c75c504f-972a-4748-9ba8-6e5d7e2878c4"
      },
      "source": [
        "array=np.array([20],dtype=np.uint8)\n",
        "print(\"Binary Representation :\",np.binary_repr(20))\n",
        "print(np.invert(array))\n"
      ],
      "execution_count": 70,
      "outputs": [
        {
          "output_type": "stream",
          "text": [
            "Binary Representation : 10100\n",
            "[235]\n"
          ],
          "name": "stdout"
        }
      ]
    },
    {
      "cell_type": "code",
      "metadata": {
        "colab": {
          "base_uri": "https://localhost:8080/"
        },
        "id": "PX8RrCVo1KQK",
        "outputId": "22a41308-a7d6-408c-dff1-28f07760e9a4"
      },
      "source": [
        "print(\"Binary Representation :\",np.binary_repr(235))"
      ],
      "execution_count": 71,
      "outputs": [
        {
          "output_type": "stream",
          "text": [
            "Binary Representation : 11101011\n"
          ],
          "name": "stdout"
        }
      ]
    },
    {
      "cell_type": "code",
      "metadata": {
        "colab": {
          "base_uri": "https://localhost:8080/"
        },
        "id": "OuYg07aU1gff",
        "outputId": "fe6aa9b5-ca97-4291-f714-3ddb03df99b7"
      },
      "source": [
        "print(\"left shift of 20 by 3 bits:\",np.left_shift(20,3))"
      ],
      "execution_count": 72,
      "outputs": [
        {
          "output_type": "stream",
          "text": [
            "left shift of 20 by 3 bits: 160\n"
          ],
          "name": "stdout"
        }
      ]
    },
    {
      "cell_type": "code",
      "metadata": {
        "colab": {
          "base_uri": "https://localhost:8080/"
        },
        "id": "WdDr_pqy1src",
        "outputId": "554b8f76-66e5-4e1e-9d92-ae4e46b17e1f"
      },
      "source": [
        "print(\"right shift of 20 by 3 bits:\",np.right_shift(20,3))"
      ],
      "execution_count": 73,
      "outputs": [
        {
          "output_type": "stream",
          "text": [
            "right shift of 20 by 3 bits: 2\n"
          ],
          "name": "stdout"
        }
      ]
    },
    {
      "cell_type": "code",
      "metadata": {
        "colab": {
          "base_uri": "https://localhost:8080/"
        },
        "id": "QkcNpckk109r",
        "outputId": "80495e4e-f726-4ad2-c122-960c66b66156"
      },
      "source": [
        "np.char.join(\":\",\"welcome to future\")"
      ],
      "execution_count": 74,
      "outputs": [
        {
          "output_type": "execute_result",
          "data": {
            "text/plain": [
              "array('w:e:l:c:o:m:e: :t:o: :f:u:t:u:r:e', dtype='<U33')"
            ]
          },
          "metadata": {
            "tags": []
          },
          "execution_count": 74
        }
      ]
    },
    {
      "cell_type": "code",
      "metadata": {
        "colab": {
          "base_uri": "https://localhost:8080/"
        },
        "id": "DW5Cjax-1_Rd",
        "outputId": "6fb81537-9543-48c9-d3cf-84114de4adf4"
      },
      "source": [
        "np.char.multiply(\"hello\",3)"
      ],
      "execution_count": 75,
      "outputs": [
        {
          "output_type": "execute_result",
          "data": {
            "text/plain": [
              "array('hellohellohello', dtype='<U15')"
            ]
          },
          "metadata": {
            "tags": []
          },
          "execution_count": 75
        }
      ]
    },
    {
      "cell_type": "code",
      "metadata": {
        "colab": {
          "base_uri": "https://localhost:8080/"
        },
        "id": "ui6e1y8H2ElO",
        "outputId": "205029f1-6002-400c-8d51-df74f45964fd"
      },
      "source": [
        "np.char.center(\"python\",20,\"#\")"
      ],
      "execution_count": 76,
      "outputs": [
        {
          "output_type": "execute_result",
          "data": {
            "text/plain": [
              "array('#######python#######', dtype='<U20')"
            ]
          },
          "metadata": {
            "tags": []
          },
          "execution_count": 76
        }
      ]
    },
    {
      "cell_type": "code",
      "metadata": {
        "colab": {
          "base_uri": "https://localhost:8080/"
        },
        "id": "k39OWJ022MK9",
        "outputId": "95f91d7d-c9e0-4dff-eeec-d388af1648b9"
      },
      "source": [
        "np.char.capitalize(\"welcome to future\")"
      ],
      "execution_count": 77,
      "outputs": [
        {
          "output_type": "execute_result",
          "data": {
            "text/plain": [
              "array('Welcome to future', dtype='<U17')"
            ]
          },
          "metadata": {
            "tags": []
          },
          "execution_count": 77
        }
      ]
    },
    {
      "cell_type": "code",
      "metadata": {
        "colab": {
          "base_uri": "https://localhost:8080/"
        },
        "id": "Gmnpq2Lu2ZT3",
        "outputId": "c5ef63db-e67f-4326-d1bf-2be445b4612d"
      },
      "source": [
        "np.char.title(\"welcome to future\")"
      ],
      "execution_count": 78,
      "outputs": [
        {
          "output_type": "execute_result",
          "data": {
            "text/plain": [
              "array('Welcome To Future', dtype='<U17')"
            ]
          },
          "metadata": {
            "tags": []
          },
          "execution_count": 78
        }
      ]
    },
    {
      "cell_type": "code",
      "metadata": {
        "colab": {
          "base_uri": "https://localhost:8080/"
        },
        "id": "n7eUnNhA2dtF",
        "outputId": "62719900-8363-425b-da80-53fc5faf7c90"
      },
      "source": [
        "st=\"happy journey\"\n",
        "np.char.replace(st,\"happy\",\"nice\")"
      ],
      "execution_count": 79,
      "outputs": [
        {
          "output_type": "execute_result",
          "data": {
            "text/plain": [
              "array('nice journey', dtype='<U12')"
            ]
          },
          "metadata": {
            "tags": []
          },
          "execution_count": 79
        }
      ]
    },
    {
      "cell_type": "markdown",
      "metadata": {
        "id": "NJ7AxaHA4eKq"
      },
      "source": [
        "MATHMATICAL FUNCTION"
      ]
    },
    {
      "cell_type": "code",
      "metadata": {
        "colab": {
          "base_uri": "https://localhost:8080/"
        },
        "id": "wFLtG3Wg2qL0",
        "outputId": "785fc905-8754-4623-d8b9-9cddbd75d36a"
      },
      "source": [
        "array=np.array([0,20,45,180])\n",
        "print(\"Sin value:\",np.sin(array*np.pi/180))\n",
        "print(\"Cos value:\",np.cos(array*np.pi/180))\n",
        "print(\"Tan value:\",np.tan(array*np.pi/180))"
      ],
      "execution_count": 80,
      "outputs": [
        {
          "output_type": "stream",
          "text": [
            "Sin value: [0.00000000e+00 3.42020143e-01 7.07106781e-01 1.22464680e-16]\n",
            "Cos value: [ 1.          0.93969262  0.70710678 -1.        ]\n",
            "Tan value: [ 0.00000000e+00  3.63970234e-01  1.00000000e+00 -1.22464680e-16]\n"
          ],
          "name": "stdout"
        }
      ]
    },
    {
      "cell_type": "code",
      "metadata": {
        "colab": {
          "base_uri": "https://localhost:8080/"
        },
        "id": "qk6rwNj247MC",
        "outputId": "a3fac43c-8274-4814-eccb-a5e87e76a60e"
      },
      "source": [
        "array=np.array([21,43,67,87,98])\n",
        "np.around(array,-1)"
      ],
      "execution_count": 81,
      "outputs": [
        {
          "output_type": "execute_result",
          "data": {
            "text/plain": [
              "array([ 20,  40,  70,  90, 100])"
            ]
          },
          "metadata": {
            "tags": []
          },
          "execution_count": 81
        }
      ]
    },
    {
      "cell_type": "code",
      "metadata": {
        "colab": {
          "base_uri": "https://localhost:8080/"
        },
        "id": "E9bVme3a5N04",
        "outputId": "9bcee702-3d9d-4af5-9b05-3d7cba0eeb87"
      },
      "source": [
        "np.floor(12.8932)"
      ],
      "execution_count": 82,
      "outputs": [
        {
          "output_type": "execute_result",
          "data": {
            "text/plain": [
              "12.0"
            ]
          },
          "metadata": {
            "tags": []
          },
          "execution_count": 82
        }
      ]
    },
    {
      "cell_type": "code",
      "metadata": {
        "colab": {
          "base_uri": "https://localhost:8080/"
        },
        "id": "JUpo1CMR5gDD",
        "outputId": "ad7a49d4-2a1b-4dd4-d26d-68c39bddaf31"
      },
      "source": [
        "np.ceil(23.12)"
      ],
      "execution_count": 83,
      "outputs": [
        {
          "output_type": "execute_result",
          "data": {
            "text/plain": [
              "24.0"
            ]
          },
          "metadata": {
            "tags": []
          },
          "execution_count": 83
        }
      ]
    },
    {
      "cell_type": "code",
      "metadata": {
        "colab": {
          "base_uri": "https://localhost:8080/"
        },
        "id": "RNFaE5Bx5jFh",
        "outputId": "5fe7132c-efd9-4a49-f2c7-e0229782ab3f"
      },
      "source": [
        "a=np.array([[12,32,2],[43,123,98],[54,543,76]])\n",
        "print(\"minimum element among the row:\",np.amin(a,0))\n",
        "print(\"minimum element among the column:\",np.amin(a,1))"
      ],
      "execution_count": 84,
      "outputs": [
        {
          "output_type": "stream",
          "text": [
            "minimum element among the row: [12 32  2]\n",
            "minimum element among the column: [ 2 43 54]\n"
          ],
          "name": "stdout"
        }
      ]
    },
    {
      "cell_type": "code",
      "metadata": {
        "colab": {
          "base_uri": "https://localhost:8080/"
        },
        "id": "bTg3034M8Q2d",
        "outputId": "a47816eb-475e-42fa-c835-ac90e78463ba"
      },
      "source": [
        "print(\"maximum element among the row\",np.amax(a,0))\n",
        "print(\"maximum element among the column\",np.amax(a,1))"
      ],
      "execution_count": 85,
      "outputs": [
        {
          "output_type": "stream",
          "text": [
            "maximum element among the row [ 54 543  98]\n",
            "maximum element among the column [ 32 123 543]\n"
          ],
          "name": "stdout"
        }
      ]
    },
    {
      "cell_type": "code",
      "metadata": {
        "colab": {
          "base_uri": "https://localhost:8080/"
        },
        "id": "cH6XsTMhhG2t",
        "outputId": "95d5d31a-29ef-4caf-f51a-e52b881f4d92"
      },
      "source": [
        "print(\"pecentile 10 along row:\",np.percentile(a,10,0))"
      ],
      "execution_count": 87,
      "outputs": [
        {
          "output_type": "stream",
          "text": [
            "pecentile 10 along row: [18.2 50.2 16.8]\n"
          ],
          "name": "stdout"
        }
      ]
    },
    {
      "cell_type": "code",
      "metadata": {
        "colab": {
          "base_uri": "https://localhost:8080/"
        },
        "id": "ZfBfdg13hf3k",
        "outputId": "16ea58f3-65ca-487f-d651-d91fc6cf0210"
      },
      "source": [
        "print(\"percentile 30 along column:\",np.percentile(a,30,1))"
      ],
      "execution_count": 88,
      "outputs": [
        {
          "output_type": "stream",
          "text": [
            "percentile 30 along column: [ 8.  76.  67.2]\n"
          ],
          "name": "stdout"
        }
      ]
    },
    {
      "cell_type": "code",
      "metadata": {
        "colab": {
          "base_uri": "https://localhost:8080/"
        },
        "id": "RoBKKQeHhvZJ",
        "outputId": "6e12f2f2-8880-4643-a872-2e988ec8d65f"
      },
      "source": [
        "print(\"mean along axis 0:\",np.mean(a,0))"
      ],
      "execution_count": 90,
      "outputs": [
        {
          "output_type": "stream",
          "text": [
            "mean along axis 0: [ 36.33333333 232.66666667  58.66666667]\n"
          ],
          "name": "stdout"
        }
      ]
    },
    {
      "cell_type": "markdown",
      "metadata": {
        "id": "TOK25eKBmZ02"
      },
      "source": [
        "SORTING"
      ]
    },
    {
      "cell_type": "code",
      "metadata": {
        "colab": {
          "base_uri": "https://localhost:8080/"
        },
        "id": "jKOt8woJiEbN",
        "outputId": "243c7dc0-cbc2-4d4a-c2dc-14af56b90ae7"
      },
      "source": [
        "a=np.array([[10,2,3],[34,21,56],[13,67,43]])\n",
        "print(\"sorting array:\",np.sort(a))\n",
        "print(\"sorting array along axis 0:\",np.sort(a,0))\n",
        "print(\"sorting array along axis 1:\",np.sort(a,1))"
      ],
      "execution_count": 93,
      "outputs": [
        {
          "output_type": "stream",
          "text": [
            "sorting array: [[ 2  3 10]\n",
            " [21 34 56]\n",
            " [13 43 67]]\n",
            "sorting array along axis 0: [[10  2  3]\n",
            " [13 21 43]\n",
            " [34 67 56]]\n",
            "sorting array along axis 1: [[ 2  3 10]\n",
            " [21 34 56]\n",
            " [13 43 67]]\n"
          ],
          "name": "stdout"
        }
      ]
    },
    {
      "cell_type": "markdown",
      "metadata": {
        "id": "-fVb_5HAnI3M"
      },
      "source": [
        "SEARCHING"
      ]
    },
    {
      "cell_type": "code",
      "metadata": {
        "colab": {
          "base_uri": "https://localhost:8080/"
        },
        "id": "626TxN5Wmwhe",
        "outputId": "1f790c0c-507e-4770-caf0-1a829bd4739b"
      },
      "source": [
        "a=np.array([21,32,45,143,564,23,321,90,102])\n",
        "print(np.where(a>100))"
      ],
      "execution_count": 96,
      "outputs": [
        {
          "output_type": "stream",
          "text": [
            "(array([3, 4, 6, 8]),)\n"
          ],
          "name": "stdout"
        }
      ]
    },
    {
      "cell_type": "markdown",
      "metadata": {
        "id": "jIB9XAtOnrtb"
      },
      "source": [
        "ID,COPY,VIEW"
      ]
    },
    {
      "cell_type": "code",
      "metadata": {
        "colab": {
          "base_uri": "https://localhost:8080/"
        },
        "id": "5XQDAxsrnZ5F",
        "outputId": "fd154699-3707-4aae-b496-aaf66edebca0"
      },
      "source": [
        "a=np.array([[1,2,3],[12,23,123],[453,45,67]])\n",
        "print(\"id of a is:\",id(a))\n",
        "\n",
        "b=a\n",
        "\n",
        "print(\"id of b is:\",id(b))\n",
        "\n",
        "b.shape=(9,1)\n",
        "\n",
        "print(a.shape)"
      ],
      "execution_count": 99,
      "outputs": [
        {
          "output_type": "stream",
          "text": [
            "id of a is: 139661874426384\n",
            "id of b is: 139661874426384\n",
            "(9, 1)\n"
          ],
          "name": "stdout"
        }
      ]
    },
    {
      "cell_type": "code",
      "metadata": {
        "colab": {
          "base_uri": "https://localhost:8080/"
        },
        "id": "rf0IEY68oHxW",
        "outputId": "8a0f41be-5581-4e87-9844-bf07c7638b82"
      },
      "source": [
        "a=np.array([[1,2,3],[12,23,123],[453,45,67]])\n",
        "print(\"id of a is:\",id(a))\n",
        "\n",
        "b=a.view()\n",
        "\n",
        "print(\"id of b is:\",id(b))\n",
        "\n",
        "b.shape=(9,1)\n",
        "\n",
        "print(a.shape)"
      ],
      "execution_count": 100,
      "outputs": [
        {
          "output_type": "stream",
          "text": [
            "id of a is: 139661874480752\n",
            "id of b is: 139661874481472\n",
            "(3, 3)\n"
          ],
          "name": "stdout"
        }
      ]
    },
    {
      "cell_type": "code",
      "metadata": {
        "colab": {
          "base_uri": "https://localhost:8080/"
        },
        "id": "Tbh6nr9toSfp",
        "outputId": "bca0520c-a836-4559-8f6b-514f038f782e"
      },
      "source": [
        "a=np.array([[1,2,3],[12,23,123],[453,45,67]])\n",
        "print(\"id of a is:\",id(a))\n",
        "\n",
        "b=a.copy()\n",
        "print(b)\n",
        "print(\"id of b is:\",id(b))\n",
        "\n",
        "b.shape=(9,1)\n",
        "\n",
        "print(a.shape)"
      ],
      "execution_count": 102,
      "outputs": [
        {
          "output_type": "stream",
          "text": [
            "id of a is: 139661874939984\n",
            "[[  1   2   3]\n",
            " [ 12  23 123]\n",
            " [453  45  67]]\n",
            "id of b is: 139661875202848\n",
            "(3, 3)\n"
          ],
          "name": "stdout"
        }
      ]
    },
    {
      "cell_type": "markdown",
      "metadata": {
        "id": "63L3JU52rcx7"
      },
      "source": [
        "SAVE"
      ]
    },
    {
      "cell_type": "code",
      "metadata": {
        "colab": {
          "base_uri": "https://localhost:8080/"
        },
        "id": "yT9budP_oWUS",
        "outputId": "0cf67f31-d855-415a-e100-0bbcfa627a7d"
      },
      "source": [
        "a=np.arange(10)\n",
        "a"
      ],
      "execution_count": 103,
      "outputs": [
        {
          "output_type": "execute_result",
          "data": {
            "text/plain": [
              "array([0, 1, 2, 3, 4, 5, 6, 7, 8, 9])"
            ]
          },
          "metadata": {
            "tags": []
          },
          "execution_count": 103
        }
      ]
    },
    {
      "cell_type": "code",
      "metadata": {
        "id": "ukHGgTEurg0A"
      },
      "source": [
        "np.save(\"sample\",a)\n"
      ],
      "execution_count": 104,
      "outputs": []
    },
    {
      "cell_type": "code",
      "metadata": {
        "colab": {
          "base_uri": "https://localhost:8080/"
        },
        "id": "YKH95Dc3rlSd",
        "outputId": "e4c878e1-aa5b-45e8-9d55-3d8e4910fb78"
      },
      "source": [
        "b=np.load(\"sample.npy\")\n",
        "b"
      ],
      "execution_count": 105,
      "outputs": [
        {
          "output_type": "execute_result",
          "data": {
            "text/plain": [
              "array([0, 1, 2, 3, 4, 5, 6, 7, 8, 9])"
            ]
          },
          "metadata": {
            "tags": []
          },
          "execution_count": 105
        }
      ]
    },
    {
      "cell_type": "code",
      "metadata": {
        "id": "l5JWL6QYrpZi"
      },
      "source": [
        ""
      ],
      "execution_count": null,
      "outputs": []
    }
  ]
}